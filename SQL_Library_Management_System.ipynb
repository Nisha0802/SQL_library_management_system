{
 "cells": [
  {
   "cell_type": "markdown",
   "id": "a58accca",
   "metadata": {},
   "source": [
    "# Efficient SQL Library Management System"
   ]
  },
  {
   "cell_type": "markdown",
   "id": "ece6bccb",
   "metadata": {},
   "source": [
    "### Functions for Library Management System"
   ]
  },
  {
   "cell_type": "markdown",
   "id": "024204f1",
   "metadata": {},
   "source": [
    "1.BOOK ADD \n",
    " 2.BOOK ISSUE \n",
    "  3.BOOK SUBMIT \n",
    "   4.BOOKS DELETE \n",
    "    5.DISPLAY ALL BOOKS"
   ]
  },
  {
   "cell_type": "markdown",
   "id": "4291ff4c",
   "metadata": {},
   "source": [
    "#### for connection first import mysql.connector as my"
   ]
  },
  {
   "cell_type": "code",
   "execution_count": 26,
   "id": "3c3dcc1f",
   "metadata": {},
   "outputs": [],
   "source": [
    "import mysql.connector as my"
   ]
  },
  {
   "cell_type": "markdown",
   "id": "ce78a67e",
   "metadata": {},
   "source": [
    "#### Connect with mysql database"
   ]
  },
  {
   "cell_type": "code",
   "execution_count": 27,
   "id": "4605ecee",
   "metadata": {},
   "outputs": [
    {
     "name": "stdout",
     "output_type": "stream",
     "text": [
      "Successfully connected\n"
     ]
    }
   ],
   "source": [
    "db = my.connect(host= \"localhost\",user=\"root\",password = \"Nb@123\",auth_plugin = \"mysql_native_password\")\n",
    "#check for connection\n",
    "if db.is_connected():\n",
    "    print(\"Successfully connected\")\n",
    "else:\n",
    "    print(\"Not connected\")"
   ]
  },
  {
   "cell_type": "markdown",
   "id": "ac4098e5",
   "metadata": {},
   "source": [
    "#### Make cursor to execute SQL query"
   ]
  },
  {
   "cell_type": "code",
   "execution_count": 28,
   "id": "e916c7cd",
   "metadata": {},
   "outputs": [],
   "source": [
    "curr = db.cursor()"
   ]
  },
  {
   "cell_type": "markdown",
   "id": "daa74cba",
   "metadata": {},
   "source": [
    "#### Create database name with Library_management"
   ]
  },
  {
   "cell_type": "code",
   "execution_count": 29,
   "id": "ba306e99",
   "metadata": {},
   "outputs": [],
   "source": [
    "curr.execute(\"Create database Library_management\")"
   ]
  },
  {
   "cell_type": "markdown",
   "id": "3e228491",
   "metadata": {},
   "source": [
    "#### Create three tables Books, Issue_books, Submit_books"
   ]
  },
  {
   "cell_type": "code",
   "execution_count": 34,
   "id": "c1338deb",
   "metadata": {},
   "outputs": [],
   "source": [
    "curr.execute(\"use Library_management\")\n",
    "curr.execute(\"Create table Books(B_name varchar(50),Author varchar(20),B_code varchar(10),Quantity int)\")"
   ]
  },
  {
   "cell_type": "code",
   "execution_count": 31,
   "id": "16692108",
   "metadata": {},
   "outputs": [],
   "source": [
    "curr.execute(\"Create table Issue_books(Student_name varchar(20),Reg_no varchar(10),B_code varchar(10),Issue_date varchar(20))\")"
   ]
  },
  {
   "cell_type": "code",
   "execution_count": 32,
   "id": "7801f1e5",
   "metadata": {},
   "outputs": [],
   "source": [
    "curr.execute(\"Create table Submit_books(Student_name varchar(20),Reg_no varchar(10),B_code varchar(10),Submit_date varchar(20))\")"
   ]
  },
  {
   "cell_type": "markdown",
   "id": "68992b97",
   "metadata": {},
   "source": [
    "#### Create function for Library Management System"
   ]
  },
  {
   "cell_type": "code",
   "execution_count": 35,
   "id": "1a73a827",
   "metadata": {},
   "outputs": [
    {
     "name": "stdout",
     "output_type": "stream",
     "text": [
      "Enter password: Nb@123\n",
      "                       Library Management System \n",
      "        1.BOOK ADD \n",
      "        2.BOOK ISSUE \n",
      "        3.BOOK SUBMIT \n",
      "        4.BOOKS DELETE \n",
      "        5.DISPLAY ALL BOOKS\n",
      "    \n",
      "Enter task no: 1\n",
      "Enter book name: Deep Learning\n",
      "Enter book Author nameYoshua Bengio\n",
      "Enter book code: DL001\n",
      "Enter Quantity of books: 10\n",
      "Data successfully save into MySql\n",
      "                       Library Management System \n",
      "        1.BOOK ADD \n",
      "        2.BOOK ISSUE \n",
      "        3.BOOK SUBMIT \n",
      "        4.BOOKS DELETE \n",
      "        5.DISPLAY ALL BOOKS\n",
      "    \n",
      "Enter task no: 1\n",
      "Enter book name:  MySQL\n",
      "Enter book Author nameBenjamin Nevarez\n",
      "Enter book code: SQL003\n",
      "Enter Quantity of books: 15\n",
      "Data successfully save into MySql\n",
      "                       Library Management System \n",
      "        1.BOOK ADD \n",
      "        2.BOOK ISSUE \n",
      "        3.BOOK SUBMIT \n",
      "        4.BOOKS DELETE \n",
      "        5.DISPLAY ALL BOOKS\n",
      "    \n",
      "Enter task no: 1\n",
      "Enter book name: Data Structures\n",
      "Enter book Author nameRonald L. Rivest\n",
      "Enter book code: DS001\n",
      "Enter Quantity of books: 20\n",
      "Data successfully save into MySql\n",
      "                       Library Management System \n",
      "        1.BOOK ADD \n",
      "        2.BOOK ISSUE \n",
      "        3.BOOK SUBMIT \n",
      "        4.BOOKS DELETE \n",
      "        5.DISPLAY ALL BOOKS\n",
      "    \n",
      "Enter task no: 1\n",
      "Enter book name: Machine Learning\n",
      "Enter book Author nameVahid Mirjalili\n",
      "Enter book code: ML006\n",
      "Enter Quantity of books: 24\n",
      "Data successfully save into MySql\n",
      "                       Library Management System \n",
      "        1.BOOK ADD \n",
      "        2.BOOK ISSUE \n",
      "        3.BOOK SUBMIT \n",
      "        4.BOOKS DELETE \n",
      "        5.DISPLAY ALL BOOKS\n",
      "    \n",
      "Enter task no: 1\n",
      "Enter book name: Software Engineering\n",
      "Enter book Author nameFred Brooks\n",
      "Enter book code: SE004\n",
      "Enter Quantity of books: 25\n",
      "Data successfully save into MySql\n",
      "                       Library Management System \n",
      "        1.BOOK ADD \n",
      "        2.BOOK ISSUE \n",
      "        3.BOOK SUBMIT \n",
      "        4.BOOKS DELETE \n",
      "        5.DISPLAY ALL BOOKS\n",
      "    \n",
      "Enter task no: 6\n",
      "Given choice is not correct........\n"
     ]
    }
   ],
   "source": [
    "#here B means book\n",
    "def B_add():\n",
    "    book_name = input(\"Enter book name: \")\n",
    "    Author = input(\"Enter book Author name\")\n",
    "    book_code = input(\"Enter book code: \")\n",
    "    Quantity = int(input(\"Enter Quantity of books: \"))\n",
    "    info = (book_name,Author,book_code,Quantity)\n",
    "    query = \"insert into Books values(%s,%s,%s,%s)\"\n",
    "    curr = db.cursor()\n",
    "    curr.execute(query,info)\n",
    "    db.commit()\n",
    "    print(\"Data successfully save into MySql\")\n",
    "    program()\n",
    "    \n",
    "def B_issue():\n",
    "    Student_name = input(\"Enter Student name: \")\n",
    "    Reg_no = input(\"Enter regno: \")\n",
    "    book_code = input(\"Enter book code: \")\n",
    "    issuedate = input(\"Enter issue date: \")\n",
    "    info = (Student_name,Reg_no,book_code,issuedate)\n",
    "    query = \"insert into Issue_books values(%s,%s,%s,%s)\"\n",
    "    curr = db.cursor()\n",
    "    curr.execute(query,info)\n",
    "    db.commit()\n",
    "    print(\"Book issued to: \",Student_name)\n",
    "    book_save(book_code,-1)\n",
    "\n",
    "def B_submit():\n",
    "    Student_name = input(\"Enter Student name: \")\n",
    "    Regno = input(\"Enter regno: \")\n",
    "    book_code = input(\"Enter book code: \")\n",
    "    submit_date = input(\"Enter submit date: \")\n",
    "    query = \"insert into submit_books values(%s,%s,%s,%s)\"\n",
    "    info = (Student_name,Regno,book_code,submit_date)\n",
    "    curr = db.cursor()\n",
    "    curr.execute(query,info)\n",
    "    db.commit()\n",
    "    print(\"Book Submitted from : \",Student_name)\n",
    "    book_save(book_code,1)\n",
    "    \n",
    "def book_save(book_code,v):\n",
    "    query = \"select Quantity from Books where B_code=%s\"\n",
    "    info = (book_code,)\n",
    "    curr = db.cursor()\n",
    "    curr.execute(query,info)\n",
    "    result = curr.fetchone()\n",
    "    a = result[0]+v\n",
    "    sql = \"update Books set Quantity = %s where B_code=%s\"\n",
    "    info1 = (a,book_code)\n",
    "    curr.execute(sql,info1)\n",
    "    db.commit()\n",
    "    program()\n",
    "\n",
    "def book_delete():\n",
    "    book_code = input(\"Enter book code: \")\n",
    "    query = \"delete from Books where B_code=%s\"\n",
    "    info = (book_code,)\n",
    "    curr = db.cursor()\n",
    "    curr.execute(query,info)\n",
    "    db.commit()\n",
    "    print(\"Book deleted successfully\")\n",
    "    program()\n",
    "\n",
    "def book_display():\n",
    "    query = \"select * from books\"\n",
    "    curr = db.cursor()\n",
    "    curr.execute(query)\n",
    "    result = curr.fetchall()\n",
    "    for i in result:\n",
    "        print(i)\n",
    "    program()\n",
    "    \n",
    "def program():\n",
    "    print(\"\"\"                       Library Management System \n",
    "        1.BOOK ADD \n",
    "        2.BOOK ISSUE \n",
    "        3.BOOK SUBMIT \n",
    "        4.BOOKS DELETE \n",
    "        5.DISPLAY ALL BOOKS\n",
    "    \"\"\")\n",
    "    option = int(input(\"Enter task no: \"))\n",
    "    if(option==1):\n",
    "        B_add()\n",
    "    elif(option==2):\n",
    "        B_issue()\n",
    "    elif(option==3):\n",
    "        B_submit()\n",
    "    elif(option==4):\n",
    "        book_delete()\n",
    "    elif(option==5):\n",
    "        book_display()\n",
    "    else:\n",
    "        print(\"Given choice is not correct........\")\n",
    "\n",
    "def password():\n",
    "    passw = input(\"Enter password: \")\n",
    "    if passw==\"Nb@123\":\n",
    "        program()\n",
    "    else:\n",
    "        print(\"Wrong Password:\")\n",
    "        password()\n",
    "password()"
   ]
  },
  {
   "cell_type": "markdown",
   "id": "02480660",
   "metadata": {},
   "source": [
    "#### To show all results from Books table"
   ]
  },
  {
   "cell_type": "code",
   "execution_count": 37,
   "id": "fbbcbfb8",
   "metadata": {},
   "outputs": [
    {
     "name": "stdout",
     "output_type": "stream",
     "text": [
      "('Deep Learning', 'Yoshua Bengio', 'DL001', 10)\n",
      "(' MySQL', 'Benjamin Nevarez', 'SQL003', 15)\n",
      "('Data Structures', 'Ronald L. Rivest', 'DS001', 20)\n",
      "('Machine Learning', 'Vahid Mirjalili', 'ML006', 24)\n",
      "('Software Engineering', 'Fred Brooks', 'SE004', 25)\n"
     ]
    }
   ],
   "source": [
    "curr.execute(\"select * from Books\")\n",
    "for i in curr:\n",
    "    print(i)"
   ]
  },
  {
   "cell_type": "markdown",
   "id": "b1282e59",
   "metadata": {},
   "source": [
    "#### To issue a book to a student"
   ]
  },
  {
   "cell_type": "code",
   "execution_count": 39,
   "id": "4e893b1b",
   "metadata": {},
   "outputs": [
    {
     "name": "stdout",
     "output_type": "stream",
     "text": [
      "                       Library Management System \n",
      "        1.BOOK ADD \n",
      "        2.BOOK ISSUE \n",
      "        3.BOOK SUBMIT \n",
      "        4.BOOKS DELETE \n",
      "        5.DISPLAY ALL BOOKS\n",
      "    \n",
      "Enter task no: 2\n",
      "Enter Student name: Nisha\n",
      "Enter regno: R100200\n",
      "Enter book code: SE004\n",
      "Enter issue date: 10/02/2023\n",
      "Book issued to:  Nisha\n",
      "                       Library Management System \n",
      "        1.BOOK ADD \n",
      "        2.BOOK ISSUE \n",
      "        3.BOOK SUBMIT \n",
      "        4.BOOKS DELETE \n",
      "        5.DISPLAY ALL BOOKS\n",
      "    \n",
      "Enter task no: 2\n",
      "Enter Student name: Unnati\n",
      "Enter regno: R100201\n",
      "Enter book code: DS001\n",
      "Enter issue date: 10/02/2023\n",
      "Book issued to:  Unnati\n",
      "                       Library Management System \n",
      "        1.BOOK ADD \n",
      "        2.BOOK ISSUE \n",
      "        3.BOOK SUBMIT \n",
      "        4.BOOKS DELETE \n",
      "        5.DISPLAY ALL BOOKS\n",
      "    \n",
      "Enter task no: 6\n",
      "Given choice is not correct........\n"
     ]
    }
   ],
   "source": [
    "program()"
   ]
  },
  {
   "cell_type": "markdown",
   "id": "6241decc",
   "metadata": {},
   "source": [
    "#### To show all results from Issue_books ,books, table "
   ]
  },
  {
   "cell_type": "code",
   "execution_count": 42,
   "id": "1640588e",
   "metadata": {},
   "outputs": [
    {
     "name": "stdout",
     "output_type": "stream",
     "text": [
      "('Deep Learning', 'Yoshua Bengio', 'DL001', 10)\n",
      "(' MySQL', 'Benjamin Nevarez', 'SQL003', 15)\n",
      "('Data Structures', 'Ronald L. Rivest', 'DS001', 19)\n",
      "('Machine Learning', 'Vahid Mirjalili', 'ML006', 24)\n",
      "('Software Engineering', 'Fred Brooks', 'SE004', 24)\n"
     ]
    }
   ],
   "source": [
    "curr.execute(\"select * from books\")\n",
    "for i in curr:\n",
    "    print(i)"
   ]
  },
  {
   "cell_type": "code",
   "execution_count": 40,
   "id": "a9e69f27",
   "metadata": {},
   "outputs": [
    {
     "name": "stdout",
     "output_type": "stream",
     "text": [
      "('Nisha', 'R100200', 'SE004', '10/02/2023')\n",
      "('Unnati', 'R100201', 'DS001', '10/02/2023')\n"
     ]
    }
   ],
   "source": [
    "curr.execute(\"select * from Issue_books\")\n",
    "for i in curr:\n",
    "    print(i)"
   ]
  },
  {
   "cell_type": "markdown",
   "id": "5601d8fe",
   "metadata": {},
   "source": [
    "#### submit a book "
   ]
  },
  {
   "cell_type": "code",
   "execution_count": 46,
   "id": "ee1640fa",
   "metadata": {},
   "outputs": [
    {
     "name": "stdout",
     "output_type": "stream",
     "text": [
      "                       Library Management System \n",
      "        1.BOOK ADD \n",
      "        2.BOOK ISSUE \n",
      "        3.BOOK SUBMIT \n",
      "        4.BOOKS DELETE \n",
      "        5.DISPLAY ALL BOOKS\n",
      "    \n",
      "Enter task no: 3\n",
      "Enter Student name: Unnati\n",
      "Enter regno: R100201\n",
      "Enter book code: DS001\n",
      "Enter submit date: 25/03/2023\n",
      "Book Submitted from :  Unnati\n",
      "                       Library Management System \n",
      "        1.BOOK ADD \n",
      "        2.BOOK ISSUE \n",
      "        3.BOOK SUBMIT \n",
      "        4.BOOKS DELETE \n",
      "        5.DISPLAY ALL BOOKS\n",
      "    \n",
      "Enter task no: 6\n",
      "Given choice is not correct........\n"
     ]
    }
   ],
   "source": [
    "program()"
   ]
  },
  {
   "cell_type": "markdown",
   "id": "c5f84509",
   "metadata": {},
   "source": [
    "#### After submit book to show all results from Submit_books, books table"
   ]
  },
  {
   "cell_type": "code",
   "execution_count": 49,
   "id": "91c4dd4a",
   "metadata": {},
   "outputs": [
    {
     "name": "stdout",
     "output_type": "stream",
     "text": [
      "('Deep Learning', 'Yoshua Bengio', 'DL001', 10)\n",
      "(' MySQL', 'Benjamin Nevarez', 'SQL003', 15)\n",
      "('Data Structures', 'Ronald L. Rivest', 'DS001', 20)\n",
      "('Machine Learning', 'Vahid Mirjalili', 'ML006', 24)\n",
      "('Software Engineering', 'Fred Brooks', 'SE004', 24)\n"
     ]
    }
   ],
   "source": [
    "curr.execute(\"select * from books\")\n",
    "for i in curr:\n",
    "    print(i)"
   ]
  },
  {
   "cell_type": "code",
   "execution_count": 50,
   "id": "bf386251",
   "metadata": {},
   "outputs": [
    {
     "name": "stdout",
     "output_type": "stream",
     "text": [
      "('Unnati', 'R100201', 'DS001', '25/03/2023')\n"
     ]
    }
   ],
   "source": [
    "curr.execute(\"select * from Submit_books\")\n",
    "for i in curr:\n",
    "    print(i)"
   ]
  },
  {
   "cell_type": "markdown",
   "id": "e10fa533",
   "metadata": {},
   "source": [
    "#### Delete a book from books table"
   ]
  },
  {
   "cell_type": "code",
   "execution_count": 51,
   "id": "fe41377a",
   "metadata": {},
   "outputs": [
    {
     "name": "stdout",
     "output_type": "stream",
     "text": [
      "                       Library Management System \n",
      "        1.BOOK ADD \n",
      "        2.BOOK ISSUE \n",
      "        3.BOOK SUBMIT \n",
      "        4.BOOKS DELETE \n",
      "        5.DISPLAY ALL BOOKS\n",
      "    \n",
      "Enter task no: 4\n",
      "Enter book code: DS001\n",
      "Book deleted successfully\n",
      "                       Library Management System \n",
      "        1.BOOK ADD \n",
      "        2.BOOK ISSUE \n",
      "        3.BOOK SUBMIT \n",
      "        4.BOOKS DELETE \n",
      "        5.DISPLAY ALL BOOKS\n",
      "    \n",
      "Enter task no: 6\n",
      "Given choice is not correct........\n"
     ]
    }
   ],
   "source": [
    "program()"
   ]
  },
  {
   "cell_type": "markdown",
   "id": "6d4a8bf6",
   "metadata": {},
   "source": [
    "#### After delete book to show all results from books table"
   ]
  },
  {
   "cell_type": "code",
   "execution_count": 53,
   "id": "6e1148cf",
   "metadata": {},
   "outputs": [
    {
     "name": "stdout",
     "output_type": "stream",
     "text": [
      "('Deep Learning', 'Yoshua Bengio', 'DL001', 10)\n",
      "(' MySQL', 'Benjamin Nevarez', 'SQL003', 15)\n",
      "('Machine Learning', 'Vahid Mirjalili', 'ML006', 24)\n",
      "('Software Engineering', 'Fred Brooks', 'SE004', 24)\n"
     ]
    }
   ],
   "source": [
    "curr.execute(\"select * from books\")\n",
    "for i in curr:\n",
    "    print(i)"
   ]
  },
  {
   "cell_type": "markdown",
   "id": "2a85eb4b",
   "metadata": {},
   "source": [
    "#### Display all result"
   ]
  },
  {
   "cell_type": "code",
   "execution_count": 54,
   "id": "c9958e41",
   "metadata": {},
   "outputs": [
    {
     "name": "stdout",
     "output_type": "stream",
     "text": [
      "                       Library Management System \n",
      "        1.BOOK ADD \n",
      "        2.BOOK ISSUE \n",
      "        3.BOOK SUBMIT \n",
      "        4.BOOKS DELETE \n",
      "        5.DISPLAY ALL BOOKS\n",
      "    \n",
      "Enter task no: 5\n",
      "('Deep Learning', 'Yoshua Bengio', 'DL001', 10)\n",
      "(' MySQL', 'Benjamin Nevarez', 'SQL003', 15)\n",
      "('Machine Learning', 'Vahid Mirjalili', 'ML006', 24)\n",
      "('Software Engineering', 'Fred Brooks', 'SE004', 24)\n",
      "                       Library Management System \n",
      "        1.BOOK ADD \n",
      "        2.BOOK ISSUE \n",
      "        3.BOOK SUBMIT \n",
      "        4.BOOKS DELETE \n",
      "        5.DISPLAY ALL BOOKS\n",
      "    \n",
      "Enter task no: 6\n",
      "Given choice is not correct........\n"
     ]
    }
   ],
   "source": [
    "program()"
   ]
  },
  {
   "cell_type": "markdown",
   "id": "ed4babc0",
   "metadata": {},
   "source": [
    "#### Show all tables "
   ]
  },
  {
   "cell_type": "code",
   "execution_count": 55,
   "id": "33ce4a78",
   "metadata": {},
   "outputs": [
    {
     "name": "stdout",
     "output_type": "stream",
     "text": [
      "('books',)\n",
      "('issue_books',)\n",
      "('submit_books',)\n"
     ]
    }
   ],
   "source": [
    "curr = db.cursor()\n",
    "curr.execute(\"show tables\")\n",
    "for i in curr:\n",
    "    print(i)"
   ]
  },
  {
   "cell_type": "code",
   "execution_count": null,
   "id": "155ecdb0",
   "metadata": {},
   "outputs": [],
   "source": []
  }
 ],
 "metadata": {
  "kernelspec": {
   "display_name": "Python 3 (ipykernel)",
   "language": "python",
   "name": "python3"
  },
  "language_info": {
   "codemirror_mode": {
    "name": "ipython",
    "version": 3
   },
   "file_extension": ".py",
   "mimetype": "text/x-python",
   "name": "python",
   "nbconvert_exporter": "python",
   "pygments_lexer": "ipython3",
   "version": "3.9.7"
  }
 },
 "nbformat": 4,
 "nbformat_minor": 5
}
